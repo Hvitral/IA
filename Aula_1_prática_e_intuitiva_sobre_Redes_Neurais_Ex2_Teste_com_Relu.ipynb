{
 "cells": [
  {
   "cell_type": "markdown",
   "metadata": {
    "id": "ytVHkVA7UMoJ"
   },
   "source": [
    "Código equivalente ao código anterior, mas agora com uma rede neural de duas camadas, onde cada camada tem um neurônio. A primeira camada recebe as entradas, e a segunda camada recebe a saída da primeira camada como entrada. Vamos usar o mesmo dataset fictício (problema XOR) e permitir a escolha de funções de ativação."
   ]
  },
  {
   "cell_type": "code",
   "execution_count": 59,
   "metadata": {
    "id": "egTUSccKUTWp",
    "scrolled": true
   },
   "outputs": [
    {
     "name": "stdout",
     "output_type": "stream",
     "text": [
      "Época 0, Erro: 0.6264444211924302\n",
      "Época 1000, Erro: 2.0072524554951227e-05\n",
      "Época 2000, Erro: 2.007241820784216e-05\n",
      "Época 3000, Erro: 2.0072416848225524e-05\n",
      "Época 4000, Erro: 2.0072415488614485e-05\n",
      "Época 5000, Erro: 2.0072414128996477e-05\n",
      "Época 6000, Erro: 2.0072412769370425e-05\n",
      "Época 7000, Erro: 2.007241140973661e-05\n",
      "Época 8000, Erro: 2.0072410050095265e-05\n",
      "Época 9000, Erro: 2.0072408690445856e-05\n",
      "Época 10000, Erro: 2.0072407330789815e-05\n",
      "Época 11000, Erro: 2.007240597112518e-05\n",
      "Época 12000, Erro: 2.0072404611453324e-05\n",
      "Época 13000, Erro: 2.007240325177387e-05\n",
      "Época 14000, Erro: 2.007240189208643e-05\n",
      "Época 15000, Erro: 2.0072400532392016e-05\n",
      "Época 16000, Erro: 2.0072399172689342e-05\n",
      "Época 17000, Erro: 2.007239781297896e-05\n",
      "Época 18000, Erro: 2.0072396453261316e-05\n",
      "Época 19000, Erro: 2.0072395093536186e-05\n"
     ]
    }
   ],
   "source": [
    "#Nome e Matrícula: Henrique Vitral Silva Andrade, 202210201\n",
    "\n",
    "import numpy as np\n",
    "import matplotlib.pyplot as plt\n",
    "\n",
    "# Funções de ativação\n",
    "def sigmoid(x):\n",
    "    return 1 / (1 + np.exp(-x))\n",
    "\n",
    "def relu(x):\n",
    "    return np.maximum(0, x)\n",
    "\n",
    "def tanh(x):\n",
    "    return np.tanh(x)\n",
    "\n",
    "# Derivadas das funções de ativação (para o gradiente)\n",
    "def sigmoid_derivative(x):\n",
    "    return sigmoid(x) * (1 - sigmoid(x))\n",
    "\n",
    "def relu_derivative(x):\n",
    "    return np.where(x > 0, 1, 0)\n",
    "\n",
    "def tanh_derivative(x):\n",
    "    return 1 - np.tanh(x)**2\n",
    "\n",
    "# Dataset fictício (problema de classificação binária)\n",
    "# Esse Dataset foi feito para calcular o IMC, as entradas são Peso e Altura e a saída seria o IMC\n",
    "X = np.array([[0.456789, 0.345678], [0.345678, 0.234567], [0.567890, 0.456789], [0.234567, 0.123456], [0.678901,0.567890]])  # Entradas\n",
    "y = np.array([[0.234567], [0.198765], [0.278901], [0.145678], [0.312345]])              # Saídas esperadas (XOR)\n",
    "\n",
    "# Hiperparâmetros\n",
    "learning_rate = 0.05\n",
    "epochs = 20000\n",
    "\n",
    "# Inicialização dos pesos e viés\n",
    "np.random.seed(42)\n",
    "# Camada 1: 2 entradas -> 1 neurônio\n",
    "weights_1 = np.random.randn(2, 1)\n",
    "bias_1 = np.random.randn()\n",
    "\n",
    "# Camada 2: 1 entrada (saída da camada 1) -> 1 neurônio\n",
    "weights_2 = np.random.randn(1, 1)\n",
    "bias_2 = np.random.randn()\n",
    "\n",
    "# Escolha da função de ativação\n",
    "activation_function = relu\n",
    "activation_derivative = relu_derivative\n",
    "\n",
    "# Treinamento da rede\n",
    "errors = []\n",
    "for epoch in range(epochs):\n",
    "    # Forward pass\n",
    "    # Camada 1\n",
    "    weighted_sum_1 = np.dot(X, weights_1) + bias_1\n",
    "    output_1 = activation_function(weighted_sum_1)\n",
    "\n",
    "    # Camada 2\n",
    "    weighted_sum_2 = np.dot(output_1, weights_2) + bias_2\n",
    "    output_2 = activation_function(weighted_sum_2)\n",
    "\n",
    "    # Cálculo do erro (erro quadrático médio)\n",
    "    error = y - output_2\n",
    "    errors.append(np.mean(np.square(error)))\n",
    "\n",
    "    # Backpropagation\n",
    "    # Gradiente da camada 2\n",
    "    d_error = -2 * error / len(X)\n",
    "    d_output_2 = activation_derivative(weighted_sum_2)\n",
    "    gradient_2 = d_error * d_output_2\n",
    "\n",
    "    # Gradiente da camada 1\n",
    "    d_output_1 = activation_derivative(weighted_sum_1)\n",
    "    gradient_1 = np.dot(gradient_2, weights_2.T) * d_output_1\n",
    "\n",
    "    # Atualização dos pesos e viés\n",
    "    weights_2 -= learning_rate * np.dot(output_1.T, gradient_2)\n",
    "    bias_2 -= learning_rate * np.sum(gradient_2)\n",
    "\n",
    "    weights_1 -= learning_rate * np.dot(X.T, gradient_1)\n",
    "    bias_1 -= learning_rate * np.sum(gradient_1)\n",
    "\n",
    "    # Exibir progresso a cada 1000 épocas\n",
    "    if epoch % 1000 == 0:\n",
    "        print(f\"Época {epoch}, Erro: {errors[-1]}\")\n"
   ]
  },
  {
   "cell_type": "code",
   "execution_count": 60,
   "metadata": {
    "id": "_ABiebIyUrdo",
    "scrolled": true
   },
   "outputs": [
    {
     "data": {
      "image/png": "[encoded data removed]",
      "text/plain": [
       "<Figure size 640x480 with 1 Axes>"
      ]
     },
     "metadata": {},
     "output_type": "display_data"
    },
    {
     "name": "stdout",
     "output_type": "stream",
     "text": [
      "\n",
      "Teste da rede treinada:\n",
      "Entrada: [0.456789 0.345678], Saída esperada: [0.234567], Saída da rede: [0.23406528]\n",
      "Entrada: [0.345678 0.234567], Saída esperada: [0.198765], Saída da rede: [0.19270459]\n",
      "Entrada: [0.56789  0.456789], Saída esperada: [0.278901], Saída da rede: [0.2754199]\n",
      "Entrada: [0.234567 0.123456], Saída esperada: [0.145678], Saída da rede: [0.15134391]\n",
      "Entrada: [0.678901 0.56789 ], Saída esperada: [0.312345], Saída da rede: [0.31672234]\n"
     ]
    }
   ],
   "source": [
    "# Plot do erro ao longo do treinamento\n",
    "plt.plot(range(epochs), errors)\n",
    "plt.title(\"Erro ao longo do treinamento\")\n",
    "plt.xlabel(\"Época\")\n",
    "plt.ylabel(\"Erro\")\n",
    "plt.show()\n",
    "\n",
    "# Teste da rede treinada\n",
    "print(\"\\nTeste da rede treinada:\")\n",
    "for i in range(len(X)):\n",
    "    # Forward pass\n",
    "    weighted_sum_1 = np.dot(X[i], weights_1) + bias_1\n",
    "    output_1 = activation_function(weighted_sum_1)\n",
    "\n",
    "    weighted_sum_2 = np.dot(output_1, weights_2) + bias_2\n",
    "    output_2 = activation_function(weighted_sum_2)\n",
    "\n",
    "    print(f\"Entrada: {X[i]}, Saída esperada: {y[i]}, Saída da rede: {output_2}\")"
   ]
  },
  {
   "cell_type": "code",
   "execution_count": null,
   "metadata": {},
   "outputs": [],
   "source": []
  }
 ],
 "metadata": {
  "colab": {
   "provenance": []
  },
  "kernelspec": {
   "display_name": "Python 3 (ipykernel)",
   "language": "python",
   "name": "python3"
  },
  "language_info": {
   "codemirror_mode": {
    "name": "ipython",
    "version": 3
   },
   "file_extension": ".py",
   "mimetype": "text/x-python",
   "name": "python",
   "nbconvert_exporter": "python",
   "pygments_lexer": "ipython3",
   "version": "3.13.2"
  }
 },
 "nbformat": 4,
 "nbformat_minor": 4
}
